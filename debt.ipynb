{
 "cells": [
  {
   "cell_type": "code",
   "execution_count": null,
   "metadata": {},
   "outputs": [
    {
     "name": "stdout",
     "output_type": "stream",
     "text": [
      "     Month  Total Savings  Remaining Debt 1  Remaining Debt 2  \\\n",
      "0   Jan-25           2000             66880             19950   \n",
      "1   Feb-25           4000             63360             19000   \n",
      "2   Mar-25           6000             59840             18050   \n",
      "3   Apr-25           8000             56320             17100   \n",
      "4   May-25          10000             52800             16150   \n",
      "5   Jun-25          12000             49280             15200   \n",
      "6   Jul-25          14000             45760             14250   \n",
      "7   Aug-25          16000             42240             13300   \n",
      "8   Sep-25          18000             38720             12350   \n",
      "9   Oct-25          20000             35200             11400   \n",
      "10  Nov-25          22000             31680             10450   \n",
      "11  Dec-25          24000             28160              9500   \n",
      "12  Jan-26          26000             24640              8550   \n",
      "13  Feb-26          28000             21120              7600   \n",
      "14  Mar-26          30000             17600              6650   \n",
      "15  Apr-26          32000             14080              5700   \n",
      "16  May-26          34000             10560              4750   \n",
      "17  Jun-26          36000              7040              3800   \n",
      "18  Jul-26          38000              3520              2850   \n",
      "19  Aug-26          40000                 0              1900   \n",
      "20  Sep-26          42000                 0               950   \n",
      "21  Oct-26          44000                 0                 0   \n",
      "\n",
      "    Payment to Debt 1  Payment to Debt 2  \n",
      "0                3520                950  \n",
      "1                3520                950  \n",
      "2                3520                950  \n",
      "3                3520                950  \n",
      "4                3520                950  \n",
      "5                3520                950  \n",
      "6                3520                950  \n",
      "7                3520                950  \n",
      "8                3520                950  \n",
      "9                3520                950  \n",
      "10               3520                950  \n",
      "11               3520                950  \n",
      "12               3520                950  \n",
      "13               3520                950  \n",
      "14               3520                950  \n",
      "15               3520                950  \n",
      "16               3520                950  \n",
      "17               3520                950  \n",
      "18               3520                950  \n",
      "19               3520                950  \n",
      "20                  0                950  \n",
      "21                  0                950  \n"
     ]
    }
   ],
   "source": [
    "# Debt Calculation WebApp\n",
    "\n",
    "## Overview\n",
    "This Python application provides insights into debt repayment plans and financial savings strategies. Users can input multiple debts, monthly payments, and savings, and the app calculates projections on how long it will take to pay off debts and how savings can accelerate repayment.\n",
    "\n",
    "The app will use a simple and intuitive web interface built with **Streamlit**, a framework designed for building data-driven web apps in Python.\n",
    "\n",
    "---\n",
    "\n",
    "### File Structure\n",
    "\n",
    "```\n",
    "DebtCalculationWebApp/\n",
    "|-- app.py              # Main Streamlit app script\n",
    "|-- debt_calculator.py  # Backend calculations for debts\n",
    "|-- requirements.txt    # Dependencies for the project\n",
    "|-- README.md           # Project overview and setup instructions\n",
    "```\n",
    "\n",
    "---\n",
    "\n",
    "### Code Implementation\n",
    "\n",
    "#### 1. Backend Calculation (`debt_calculator.py`)\n",
    "This module will house the logic for handling multiple debts and generating financial insights. The calculations from your script will be refactored into functions that can process any number of debts.\n",
    "\n",
    "```python\n",
    "import pandas as pd\n",
    "import calendar\n",
    "\n",
    "def calculate_new_duration(debt, extra_savings_per_month):\n",
    "    total_remaining = debt[\"monthly_payment\"] * debt[\"remaining_months\"]\n",
    "    additional_payment = extra_savings_per_month\n",
    "    return round(total_remaining / (debt[\"monthly_payment\"] + additional_payment), 2)\n",
    "\n",
    "def generate_financial_insight(debts, savings_per_month, duration_months):\n",
    "    data = []\n",
    "    total_savings = 0\n",
    "    remaining_debts = {\n",
    "        debt_id: debt[\"monthly_payment\"] * debt[\"remaining_months\"]\n",
    "        for debt_id, debt in debts.items()\n",
    "    }\n",
    "\n",
    "    for month in range(1, duration_months + 1):\n",
    "        total_savings += savings_per_month\n",
    "        payments = {}\n",
    "\n",
    "        for debt_id, remaining in remaining_debts.items():\n",
    "            payment = min(debts[debt_id][\"monthly_payment\"], remaining)\n",
    "            remaining_debts[debt_id] -= payment\n",
    "            payments[debt_id] = payment\n",
    "\n",
    "        year = 2025 + (month - 1) // 12\n",
    "        month_name = calendar.month_abbr[(month - 1) % 12 + 1]\n",
    "        formatted_month = f\"{month_name}-{str(year)[-2:]}\"\n",
    "\n",
    "        data.append({\n",
    "            \"Month\": formatted_month,\n",
    "            \"Total Savings\": total_savings,\n",
    "            **{f\"Remaining Debt {debt_id}\": remaining for debt_id, remaining in remaining_debts.items()},\n",
    "            **{f\"Payment to Debt {debt_id}\": payment for debt_id, payment in payments.items()},\n",
    "        })\n",
    "\n",
    "    return pd.DataFrame(data)\n",
    "```\n",
    "\n",
    "#### 2. Main Web App (`app.py`)\n",
    "The Streamlit app will provide a user-friendly interface to:\n",
    "- Input debt details and savings information.\n",
    "- Display debt repayment projections and insights as interactive tables and graphs.\n",
    "\n",
    "```python\n",
    "import streamlit as st\n",
    "from debt_calculator import generate_financial_insight\n",
    "\n",
    "st.title(\"Debt Calculation WebApp\")\n",
    "\n",
    "# User inputs for debts\n",
    "st.sidebar.header(\"Debts\")\n",
    "num_debts = st.sidebar.number_input(\"Number of Debts\", min_value=1, value=2, step=1)\n",
    "\n",
    "debts = {}\n",
    "for i in range(1, num_debts + 1):\n",
    "    st.sidebar.subheader(f\"Debt {i}\")\n",
    "    monthly_payment = st.sidebar.number_input(f\"Monthly Payment (Debt {i})\", min_value=0, value=1000, step=100)\n",
    "    remaining_months = st.sidebar.number_input(f\"Remaining Months (Debt {i})\", min_value=1, value=12, step=1)\n",
    "    debts[i] = {\"monthly_payment\": monthly_payment, \"remaining_months\": remaining_months}\n",
    "\n",
    "# Savings inputs\n",
    "savings_per_month = st.sidebar.number_input(\"Monthly Savings\", min_value=0, value=2000, step=100)\n",
    "duration_months = st.sidebar.slider(\"Duration to Calculate (Months)\", min_value=12, max_value=60, value=36)\n",
    "\n",
    "# Generate financial insights\n",
    "financial_insight_df = generate_financial_insight(debts, savings_per_month, duration_months)\n",
    "\n",
    "st.subheader(\"Debt Repayment Insights\")\n",
    "st.dataframe(financial_insight_df)\n",
    "\n",
    "st.subheader(\"Summary\")\n",
    "remaining_debt_summary = financial_insight_df.iloc[-1][[col for col in financial_insight_df.columns if \"Remaining Debt\" in col]]\n",
    "st.write(\"Remaining Debt at End of Period:\")\n",
    "st.write(remaining_debt_summary)\n",
    "```\n",
    "\n",
    "\n"
   ]
  },
  {
   "cell_type": "code",
   "execution_count": null,
   "metadata": {},
   "outputs": [
    {
     "ename": "SyntaxError",
     "evalue": "expected 'else' after 'if' expression (3104523004.py, line 2)",
     "output_type": "error",
     "traceback": [
      "\u001b[1;36m  Cell \u001b[1;32mIn[2], line 2\u001b[1;36m\u001b[0m\n\u001b[1;33m    d=[x if x>=15 for x in my_list ]\u001b[0m\n\u001b[1;37m       ^\u001b[0m\n\u001b[1;31mSyntaxError\u001b[0m\u001b[1;31m:\u001b[0m expected 'else' after 'if' expression\n"
     ]
    }
   ],
   "source": [
    "#### 3. Requirements (`requirements.txt`)\n",
    "Specify the dependencies for the project:\n",
    "```\n",
    "pandas\n",
    "streamlit"
   ]
  },
  {
   "cell_type": "code",
   "execution_count": 4,
   "metadata": {},
   "outputs": [],
   "source": [
    "import pandas as pd \n",
    "datapath=r'C:\\Users\\msi\\Downloads\\product_sales.csv'\n",
    "df=pd.read_csv(datapath)\n",
    "\n"
   ]
  },
  {
   "cell_type": "code",
   "execution_count": 18,
   "metadata": {},
   "outputs": [],
   "source": [
    "# Define a mapping of incorrect or inconsistent entries to valid categories\n",
    "sales_method_mapping = {\n",
    "    'Email': 'Email',\n",
    "    'email': 'Email',\n",
    "    'Call': 'Call',\n",
    "    'Email + Call': 'Email + Call',\n",
    "    'em + call': 'Email + Call'\n",
    "}\n",
    "\n",
    "# Apply the mapping to standardize the `sales_method` column\n",
    "df['sales_method'] = df['sales_method'].map(sales_method_mapping)\n",
    "\n",
    "# Replace any unmapped (invalid) values with 'Unknown'\n",
    "df['sales_method'] = df['sales_method'].fillna('Unknown')\n"
   ]
  },
  {
   "cell_type": "code",
   "execution_count": 30,
   "metadata": {},
   "outputs": [
    {
     "data": {
      "text/html": [
       "<div>\n",
       "<style scoped>\n",
       "    .dataframe tbody tr th:only-of-type {\n",
       "        vertical-align: middle;\n",
       "    }\n",
       "\n",
       "    .dataframe tbody tr th {\n",
       "        vertical-align: top;\n",
       "    }\n",
       "\n",
       "    .dataframe thead th {\n",
       "        text-align: right;\n",
       "    }\n",
       "</style>\n",
       "<table border=\"1\" class=\"dataframe\">\n",
       "  <thead>\n",
       "    <tr style=\"text-align: right;\">\n",
       "      <th></th>\n",
       "      <th>week</th>\n",
       "      <th>sales_method</th>\n",
       "      <th>customer_id</th>\n",
       "      <th>nb_sold</th>\n",
       "      <th>revenue</th>\n",
       "      <th>years_as_customer</th>\n",
       "      <th>nb_site_visits</th>\n",
       "      <th>state</th>\n",
       "    </tr>\n",
       "  </thead>\n",
       "  <tbody>\n",
       "    <tr>\n",
       "      <th>0</th>\n",
       "      <td>2</td>\n",
       "      <td>Email</td>\n",
       "      <td>2e72d641-95ac-497b-bbf8-4861764a7097</td>\n",
       "      <td>10</td>\n",
       "      <td>NaN</td>\n",
       "      <td>0</td>\n",
       "      <td>24</td>\n",
       "      <td>Arizona</td>\n",
       "    </tr>\n",
       "    <tr>\n",
       "      <th>1</th>\n",
       "      <td>6</td>\n",
       "      <td>Email + Call</td>\n",
       "      <td>3998a98d-70f5-44f7-942e-789bb8ad2fe7</td>\n",
       "      <td>15</td>\n",
       "      <td>225.47</td>\n",
       "      <td>1</td>\n",
       "      <td>28</td>\n",
       "      <td>Kansas</td>\n",
       "    </tr>\n",
       "    <tr>\n",
       "      <th>2</th>\n",
       "      <td>5</td>\n",
       "      <td>Call</td>\n",
       "      <td>d1de9884-8059-4065-b10f-86eef57e4a44</td>\n",
       "      <td>11</td>\n",
       "      <td>52.55</td>\n",
       "      <td>6</td>\n",
       "      <td>26</td>\n",
       "      <td>Wisconsin</td>\n",
       "    </tr>\n",
       "    <tr>\n",
       "      <th>3</th>\n",
       "      <td>4</td>\n",
       "      <td>Email</td>\n",
       "      <td>78aa75a4-ffeb-4817-b1d0-2f030783c5d7</td>\n",
       "      <td>11</td>\n",
       "      <td>NaN</td>\n",
       "      <td>3</td>\n",
       "      <td>25</td>\n",
       "      <td>Indiana</td>\n",
       "    </tr>\n",
       "    <tr>\n",
       "      <th>4</th>\n",
       "      <td>3</td>\n",
       "      <td>Email</td>\n",
       "      <td>10e6d446-10a5-42e5-8210-1b5438f70922</td>\n",
       "      <td>9</td>\n",
       "      <td>90.49</td>\n",
       "      <td>0</td>\n",
       "      <td>28</td>\n",
       "      <td>Illinois</td>\n",
       "    </tr>\n",
       "    <tr>\n",
       "      <th>...</th>\n",
       "      <td>...</td>\n",
       "      <td>...</td>\n",
       "      <td>...</td>\n",
       "      <td>...</td>\n",
       "      <td>...</td>\n",
       "      <td>...</td>\n",
       "      <td>...</td>\n",
       "      <td>...</td>\n",
       "    </tr>\n",
       "    <tr>\n",
       "      <th>14995</th>\n",
       "      <td>4</td>\n",
       "      <td>Call</td>\n",
       "      <td>17267b41-d048-4346-8b90-7f787690a836</td>\n",
       "      <td>10</td>\n",
       "      <td>50.82</td>\n",
       "      <td>0</td>\n",
       "      <td>22</td>\n",
       "      <td>Pennsylvania</td>\n",
       "    </tr>\n",
       "    <tr>\n",
       "      <th>14996</th>\n",
       "      <td>5</td>\n",
       "      <td>Call</td>\n",
       "      <td>09e10d6f-4508-4b27-895e-4db11ce8302b</td>\n",
       "      <td>10</td>\n",
       "      <td>52.33</td>\n",
       "      <td>1</td>\n",
       "      <td>27</td>\n",
       "      <td>Kansas</td>\n",
       "    </tr>\n",
       "    <tr>\n",
       "      <th>14997</th>\n",
       "      <td>1</td>\n",
       "      <td>Call</td>\n",
       "      <td>839653cb-68c9-48cb-a097-0a5a3b2b298b</td>\n",
       "      <td>7</td>\n",
       "      <td>34.87</td>\n",
       "      <td>4</td>\n",
       "      <td>22</td>\n",
       "      <td>West Virginia</td>\n",
       "    </tr>\n",
       "    <tr>\n",
       "      <th>14998</th>\n",
       "      <td>6</td>\n",
       "      <td>Call</td>\n",
       "      <td>e4dad70a-b23b-407c-8bd3-e32ea00fae17</td>\n",
       "      <td>13</td>\n",
       "      <td>64.90</td>\n",
       "      <td>2</td>\n",
       "      <td>27</td>\n",
       "      <td>New Jersey</td>\n",
       "    </tr>\n",
       "    <tr>\n",
       "      <th>14999</th>\n",
       "      <td>5</td>\n",
       "      <td>Email + Call</td>\n",
       "      <td>4e077235-7c17-4054-9997-7a890336a214</td>\n",
       "      <td>13</td>\n",
       "      <td>NaN</td>\n",
       "      <td>4</td>\n",
       "      <td>25</td>\n",
       "      <td>Illinois</td>\n",
       "    </tr>\n",
       "  </tbody>\n",
       "</table>\n",
       "<p>15000 rows × 8 columns</p>\n",
       "</div>"
      ],
      "text/plain": [
       "       week  sales_method                           customer_id  nb_sold  \\\n",
       "0         2         Email  2e72d641-95ac-497b-bbf8-4861764a7097       10   \n",
       "1         6  Email + Call  3998a98d-70f5-44f7-942e-789bb8ad2fe7       15   \n",
       "2         5          Call  d1de9884-8059-4065-b10f-86eef57e4a44       11   \n",
       "3         4         Email  78aa75a4-ffeb-4817-b1d0-2f030783c5d7       11   \n",
       "4         3         Email  10e6d446-10a5-42e5-8210-1b5438f70922        9   \n",
       "...     ...           ...                                   ...      ...   \n",
       "14995     4          Call  17267b41-d048-4346-8b90-7f787690a836       10   \n",
       "14996     5          Call  09e10d6f-4508-4b27-895e-4db11ce8302b       10   \n",
       "14997     1          Call  839653cb-68c9-48cb-a097-0a5a3b2b298b        7   \n",
       "14998     6          Call  e4dad70a-b23b-407c-8bd3-e32ea00fae17       13   \n",
       "14999     5  Email + Call  4e077235-7c17-4054-9997-7a890336a214       13   \n",
       "\n",
       "       revenue  years_as_customer  nb_site_visits          state  \n",
       "0          NaN                  0              24        Arizona  \n",
       "1       225.47                  1              28         Kansas  \n",
       "2        52.55                  6              26      Wisconsin  \n",
       "3          NaN                  3              25        Indiana  \n",
       "4        90.49                  0              28       Illinois  \n",
       "...        ...                ...             ...            ...  \n",
       "14995    50.82                  0              22   Pennsylvania  \n",
       "14996    52.33                  1              27         Kansas  \n",
       "14997    34.87                  4              22  West Virginia  \n",
       "14998    64.90                  2              27     New Jersey  \n",
       "14999      NaN                  4              25       Illinois  \n",
       "\n",
       "[15000 rows x 8 columns]"
      ]
     },
     "execution_count": 30,
     "metadata": {},
     "output_type": "execute_result"
    }
   ],
   "source": [
    "df"
   ]
  },
  {
   "cell_type": "code",
   "execution_count": 31,
   "metadata": {},
   "outputs": [],
   "source": [
    "group_means = df.groupby('sales_method')['revenue'].transform('mean')"
   ]
  },
  {
   "cell_type": "code",
   "execution_count": 32,
   "metadata": {},
   "outputs": [],
   "source": [
    "df['revenue'] = df['revenue'].fillna(group_means)\n"
   ]
  },
  {
   "cell_type": "code",
   "execution_count": 39,
   "metadata": {},
   "outputs": [],
   "source": [
    "new=df[df['years_as_customer']<2024-1984]"
   ]
  },
  {
   "cell_type": "code",
   "execution_count": 41,
   "metadata": {},
   "outputs": [],
   "source": [
    "df.loc[df['years_as_customer'] > 2024-1984, 'years_as_customer'] = pd.NA"
   ]
  },
  {
   "cell_type": "code",
   "execution_count": 44,
   "metadata": {},
   "outputs": [
    {
     "data": {
      "text/plain": [
       "np.int64(2)"
      ]
     },
     "execution_count": 44,
     "metadata": {},
     "output_type": "execute_result"
    }
   ],
   "source": [
    "df['years_as_customer'].isnull().sum()"
   ]
  },
  {
   "cell_type": "code",
   "execution_count": 45,
   "metadata": {},
   "outputs": [],
   "source": [
    "group_representative = df.groupby('sales_method')['years_as_customer'].transform('mean')"
   ]
  },
  {
   "cell_type": "code",
   "execution_count": 46,
   "metadata": {},
   "outputs": [],
   "source": [
    "df['years_as_customer'] = df['years_as_customer'].fillna(group_representative)"
   ]
  },
  {
   "cell_type": "code",
   "execution_count": 47,
   "metadata": {},
   "outputs": [],
   "source": [
    "df['years_as_customer'] = df['years_as_customer'].astype(int)"
   ]
  },
  {
   "cell_type": "code",
   "execution_count": 55,
   "metadata": {},
   "outputs": [],
   "source": [
    "df['state']=df['state'].astype(str)"
   ]
  },
  {
   "cell_type": "code",
   "execution_count": 56,
   "metadata": {},
   "outputs": [
    {
     "data": {
      "text/plain": [
       "dtype('O')"
      ]
     },
     "execution_count": 56,
     "metadata": {},
     "output_type": "execute_result"
    }
   ],
   "source": [
    "df['state'].dtypes"
   ]
  },
  {
   "cell_type": "code",
   "execution_count": 58,
   "metadata": {},
   "outputs": [],
   "source": [
    "import seaborn as sns \n",
    "df_group=df.groupby('sales_method').count()\n"
   ]
  },
  {
   "cell_type": "code",
   "execution_count": 91,
   "metadata": {},
   "outputs": [
    {
     "data": {
      "text/plain": [
       "[Text(0.5, 0, 'Approach'), Text(0, 0.5, 'Count of Customers')]"
      ]
     },
     "execution_count": 91,
     "metadata": {},
     "output_type": "execute_result"
    },
    {
     "data": {
      "image/png": "[encoded data removed]",
      "text/plain": [
       "<Figure size 640x480 with 1 Axes>"
      ]
     },
     "metadata": {},
     "output_type": "display_data"
    }
   ],
   "source": [
    "ax=sns.barplot(data=df_group.reset_index(), x='sales_method', y='customer_id')\n",
    "ax.set(xlabel='Approach', ylabel='Count of Customers')\n"
   ]
  },
  {
   "cell_type": "code",
   "execution_count": 93,
   "metadata": {},
   "outputs": [
    {
     "data": {
      "text/plain": [
       "[Text(0.5, 0, 'Revenue'), Text(0, 0.5, 'Approach')]"
      ]
     },
     "execution_count": 93,
     "metadata": {},
     "output_type": "execute_result"
    },
    {
     "data": {
      "image/png": "[encoded data removed]",
      "text/plain": [
       "<Figure size 640x480 with 1 Axes>"
      ]
     },
     "metadata": {},
     "output_type": "display_data"
    }
   ],
   "source": [
    "ax=sns.boxplot(data=df,x='revenue',y='sales_method')\n",
    "ax.set(xlabel='Revenue', ylabel='Approach')"
   ]
  },
  {
   "cell_type": "code",
   "execution_count": 94,
   "metadata": {},
   "outputs": [
    {
     "name": "stderr",
     "output_type": "stream",
     "text": [
      "C:\\Users\\msi\\AppData\\Local\\Temp\\ipykernel_13584\\810483637.py:1: FutureWarning: \n",
      "\n",
      "The `ci` parameter is deprecated. Use `errorbar=('ci', False)` for the same effect.\n",
      "\n",
      "  ax=sns.lineplot(data=df,x='week',y='revenue',ci=False)\n"
     ]
    },
    {
     "data": {
      "text/plain": [
       "[Text(0.5, 0, 'Week'), Text(0, 0.5, 'Revenue')]"
      ]
     },
     "execution_count": 94,
     "metadata": {},
     "output_type": "execute_result"
    },
    {
     "data": {
      "image/png": "[encoded data removed]",
      "text/plain": [
       "<Figure size 640x480 with 1 Axes>"
      ]
     },
     "metadata": {},
     "output_type": "display_data"
    }
   ],
   "source": [
    "ax=sns.lineplot(data=df,x='week',y='revenue',ci=False)\n",
    "ax.set(xlabel='Week', ylabel='Revenue')"
   ]
  },
  {
   "cell_type": "code",
   "execution_count": 105,
   "metadata": {},
   "outputs": [
    {
     "name": "stdout",
     "output_type": "stream",
     "text": [
      "                     rpc\n",
      "sales_method            \n",
      "Call           47.597467\n",
      "Email          97.127684\n",
      "Email + Call  183.651233\n",
      "                      rph\n",
      "sales_method             \n",
      "Call            95.194934\n",
      "Email         9712.768420\n",
      "Email + Call   918.256163\n"
     ]
    }
   ],
   "source": [
    "import pandas as pd\n",
    "\n",
    "# Assuming 'df' is your DataFrame containing the cleaned data\n",
    "\n",
    "# Step 1: Group the data by sales method and calculate total revenue and number of customers for each method\n",
    "rpc_data = df.groupby('sales_method').agg(\n",
    "    total_revenue=('revenue', 'sum'),\n",
    "    num_customers=('customer_id', 'nunique')\n",
    ")\n",
    "\n",
    "# Step 2: Calculate Revenue per Customer (RPC)\n",
    "rpc_data['rpc'] = rpc_data['total_revenue'] / rpc_data['num_customers']\n",
    "\n",
    "# Display the result\n",
    "print(rpc_data[['rpc']])\n",
    "\n",
    "\n",
    "# Define the time spent per customer for each sales method in hours\n",
    "time_per_customer = {\n",
    "    'Email': 0.01,  # No time spent for email-based sales\n",
    "    'Call': 0.5,  # 30 minutes per customer for calls\n",
    "    'Email + Call': 0.200  # 10 minutes per customer for email + call\n",
    "}\n",
    "\n",
    "# Add the time spent per customer to the grouped data\n",
    "rpc_data['time_spent_per_customer'] = rpc_data.index.map(time_per_customer)\n",
    "\n",
    "# Calculate Total Time Spent for each method\n",
    "rpc_data['total_time_spent'] = rpc_data['num_customers'] * rpc_data['time_spent_per_customer']\n",
    "\n",
    "# Calculate Revenue per Hour (RPH)\n",
    "rpc_data['rph'] = rpc_data['total_revenue'] / rpc_data['total_time_spent']\n",
    "\n",
    "# Display the RPH\n",
    "print(rpc_data[['rph']])\n"
   ]
  },
  {
   "cell_type": "code",
   "execution_count": 101,
   "metadata": {},
   "outputs": [],
   "source": [
    "rph=df.groupby('sales_method').count()['customer_id']"
   ]
  },
  {
   "cell_type": "code",
   "execution_count": 102,
   "metadata": {},
   "outputs": [
    {
     "data": {
      "text/plain": [
       "sales_method\n",
       "Call            4962\n",
       "Email           7466\n",
       "Email + Call    2572\n",
       "Name: customer_id, dtype: int64"
      ]
     },
     "execution_count": 102,
     "metadata": {},
     "output_type": "execute_result"
    }
   ],
   "source": [
    "rph"
   ]
  },
  {
   "cell_type": "code",
   "execution_count": null,
   "metadata": {},
   "outputs": [],
   "source": []
  }
 ],
 "metadata": {
  "kernelspec": {
   "display_name": ".newEnv",
   "language": "python",
   "name": "python3"
  },
  "language_info": {
   "codemirror_mode": {
    "name": "ipython",
    "version": 3
   },
   "file_extension": ".py",
   "mimetype": "text/x-python",
   "name": "python",
   "nbconvert_exporter": "python",
   "pygments_lexer": "ipython3",
   "version": "3.11.1"
  }
 },
 "nbformat": 4,
 "nbformat_minor": 2
}
